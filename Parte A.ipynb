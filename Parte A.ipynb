{
 "cells": [
  {
   "cell_type": "code",
   "execution_count": null,
   "metadata": {},
   "outputs": [],
   "source": [
    "1) O URL para o conjunto de dados:\n",
    "    https://github.com/curran/data/blob/gh-pages/Rdatasets/csv/MASS/Animals.csv?fbclid=IwAR0h_YdqZowMrPEOBcyY-rSKpP5GrLCVMmqJRT0TUzvfMoorXelsundrfLI"
   ]
  },
  {
   "cell_type": "code",
   "execution_count": null,
   "metadata": {},
   "outputs": [],
   "source": [
    "2) Fundamentem a escolha deste conjunto de dados:\n",
    "    A escolha foi fácil pois todos os membros do grupo tem interesse no tema, \n",
    "neste caso o tema é os animais e por ter sido um dos primeiros ficehiros a aparecer."
   ]
  },
  {
   "cell_type": "code",
   "execution_count": null,
   "metadata": {},
   "outputs": [],
   "source": [
    "3) Escrevam um explicação do conjunto de dados, um Dicionário dos dados, que deve ficar no\n",
    "Readme do repositório."
   ]
  },
  {
   "cell_type": "code",
   "execution_count": 15,
   "metadata": {},
   "outputs": [
    {
     "name": "stdout",
     "output_type": "stream",
     "text": [
      "\"\",\"body\",\"brain\"\n",
      "\n",
      "\"Mountain beaver\",1.35,8.1\n",
      "\n",
      "\"Cow\",465,423\n",
      "\n",
      "\"Grey wolf\",36.33,119.5\n",
      "\n",
      "\"Goat\",27.66,115\n",
      "\n",
      "\"Guinea pig\",1.04,5.5\n",
      "\n",
      "\"Dipliodocus\",11700,50\n",
      "\n",
      "\"Asian elephant\",2547,4603\n",
      "\n",
      "\"Donkey\",187.1,419\n",
      "\n",
      "\"Horse\",521,655\n",
      "\n"
     ]
    }
   ],
   "source": [
    "#4\n",
    "\n",
    "a_file = open(\"D://transferecias chrome/Animals.csv\")\n",
    "\n",
    "number_of_lines = 10\n",
    "\n",
    "for i in range(number_of_lines):\n",
    "    line = a_file.readline()\n",
    "    print(line)\n"
   ]
  },
  {
   "cell_type": "code",
   "execution_count": null,
   "metadata": {},
   "outputs": [],
   "source": [
    "5) Qual é o tipo de dados de cada atributo?\n",
    "Os dados deste ficheiro vêm em string e float e int "
   ]
  }
 ],
 "metadata": {
  "kernelspec": {
   "display_name": "Python 3",
   "language": "python",
   "name": "python3"
  },
  "language_info": {
   "codemirror_mode": {
    "name": "ipython",
    "version": 3
   },
   "file_extension": ".py",
   "mimetype": "text/x-python",
   "name": "python",
   "nbconvert_exporter": "python",
   "pygments_lexer": "ipython3",
   "version": "3.7.6"
  }
 },
 "nbformat": 4,
 "nbformat_minor": 4
}
